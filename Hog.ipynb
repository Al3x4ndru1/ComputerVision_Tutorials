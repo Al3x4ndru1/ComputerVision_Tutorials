{
 "cells": [
  {
   "cell_type": "markdown",
   "metadata": {},
   "source": [
    "Histogram of Oriented Gradients"
   ]
  },
  {
   "cell_type": "markdown",
   "metadata": {},
   "source": [
    "In most cases presents better results than the CascadeClassifier"
   ]
  },
  {
   "cell_type": "markdown",
   "metadata": {},
   "source": [
    "# Concepts:"
   ]
  },
  {
   "cell_type": "markdown",
   "metadata": {},
   "source": [
    "## Derivative"
   ]
  },
  {
   "cell_type": "markdown",
   "metadata": {},
   "source": [
    "Masure the rate of the variation of the objects\n",
    "<br>\n",
    "\n",
    "We have:\n",
    "<br>\n",
    "\n",
    "_Zero derivative_\n",
    "<br>\n",
    "_Small derivative_\n",
    "<br>\n",
    "_High derivative_\n"
   ]
  },
  {
   "cell_type": "markdown",
   "metadata": {},
   "source": [
    "If the derivative is 0 or close to zero then is no variation in the image, or there is no color variation, for instance form a shade of yellow to a close shade of yellow, then the colors are almost the same."
   ]
  },
  {
   "cell_type": "markdown",
   "metadata": {},
   "source": [
    "If the derivative is small that means we are going from a shade of green to an other shade of green which are visible different."
   ]
  },
  {
   "cell_type": "markdown",
   "metadata": {},
   "source": [
    "If the derivative high that means the color are different."
   ]
  },
  {
   "cell_type": "markdown",
   "metadata": {},
   "source": [
    "## Gradiant vector"
   ]
  },
  {
   "cell_type": "markdown",
   "metadata": {},
   "source": [
    "Indicates the direction in which the values increase."
   ]
  },
  {
   "cell_type": "markdown",
   "metadata": {},
   "source": [
    "For instance, the gradiante vactor point upwards because there is the greatest variation in the colors (from yellow to gray). To make the variation we have to check all the surrounding pixels."
   ]
  },
  {
   "cell_type": "markdown",
   "metadata": {},
   "source": [
    "![](figs/variation.png)"
   ]
  },
  {
   "cell_type": "markdown",
   "metadata": {},
   "source": [
    "When there is no color variation the image will be painted black.\n",
    "<br>\n",
    "When there is color variation the connection between pixels is made, getting a similar image like:"
   ]
  },
  {
   "cell_type": "markdown",
   "metadata": {},
   "source": [
    "![](figs/pixels.png)"
   ]
  },
  {
   "cell_type": "markdown",
   "metadata": {},
   "source": [
    "So we can extract the edges of the image and consquantly identify the object based on the format.\n",
    "<br>\n",
    "The backgroud is blck because is no color variation in that area."
   ]
  },
  {
   "cell_type": "markdown",
   "metadata": {},
   "source": [
    "The nex image show the proces in an easy way:\n",
    "<br>\n",
    "![](figs/easy.png)\n",
    "<br>\n",
    "\n",
    "We select only that part of the had and we can see the arrows that points where the greatest variation in color."
   ]
  },
  {
   "cell_type": "markdown",
   "metadata": {},
   "source": [
    "# Next Step in the algorithm"
   ]
  },
  {
   "cell_type": "markdown",
   "metadata": {},
   "source": [
    "The histogram is consept of statistics used to counts the occurrences of elements in a givin class."
   ]
  },
  {
   "cell_type": "markdown",
   "metadata": {},
   "source": [
    "![](figs/matrix.png)"
   ]
  }
 ],
 "metadata": {
  "kernelspec": {
   "display_name": "Python 3.10.4 64-bit",
   "language": "python",
   "name": "python3"
  },
  "language_info": {
   "name": "python",
   "version": "3.10.4"
  },
  "orig_nbformat": 4,
  "vscode": {
   "interpreter": {
    "hash": "916dbcbb3f70747c44a77c7bcd40155683ae19c65e1c03b4aa3499c5328201f1"
   }
  }
 },
 "nbformat": 4,
 "nbformat_minor": 2
}
