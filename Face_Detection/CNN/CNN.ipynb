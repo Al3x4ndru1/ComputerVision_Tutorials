{
 "cells": [
  {
   "cell_type": "markdown",
   "metadata": {},
   "source": [
    "# Convolutional Neural Network"
   ]
  },
  {
   "cell_type": "markdown",
   "metadata": {},
   "source": [
    "Is one of the best techniques to work with computer vision. "
   ]
  },
  {
   "cell_type": "markdown",
   "metadata": {},
   "source": [
    "The convolution will have a variable confidence to see how confidence is for the object we want to detect. If the variables is below 1 that means we are not sure about the object, if the variable is above 1, or more that means we are pretty sure about the object."
   ]
  },
  {
   "cell_type": "markdown",
   "metadata": {},
   "source": [
    "CNN requires the ScaleFactor"
   ]
  },
  {
   "cell_type": "markdown",
   "metadata": {},
   "source": [
    "We can see an example of a CNN detection in the _detect_faces.py_, file in the _CNN_, folder."
   ]
  }
 ],
 "metadata": {
  "kernelspec": {
   "display_name": "Python 3.10.4 ('venv': virtualenv)",
   "language": "python",
   "name": "python3"
  },
  "language_info": {
   "name": "python",
   "version": "3.10.4"
  },
  "orig_nbformat": 4,
  "vscode": {
   "interpreter": {
    "hash": "5e40246dcbcf183158b4af1dca6118b95a6ca29bb2d65cfb1729b9240f95b5dd"
   }
  }
 },
 "nbformat": 4,
 "nbformat_minor": 2
}
