{
 "cells": [
  {
   "cell_type": "markdown",
   "metadata": {},
   "source": []
  }
 ],
 "metadata": {
  "kernelspec": {
   "display_name": "Python 3.10.4 ('venv': venv)",
   "language": "python",
   "name": "python3"
  },
  "language_info": {
   "name": "python",
   "version": "3.10.4"
  },
  "orig_nbformat": 4,
  "vscode": {
   "interpreter": {
    "hash": "5e40246dcbcf183158b4af1dca6118b95a6ca29bb2d65cfb1729b9240f95b5dd"
   }
  }
 },
 "nbformat": 4,
 "nbformat_minor": 2
}
