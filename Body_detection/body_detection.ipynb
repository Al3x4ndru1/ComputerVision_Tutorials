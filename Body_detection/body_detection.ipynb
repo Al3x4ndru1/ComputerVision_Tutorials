{
 "cells": [
  {
   "cell_type": "markdown",
   "metadata": {},
   "source": [
    "Version 1"
   ]
  },
  {
   "cell_type": "code",
   "execution_count": null,
   "metadata": {},
   "outputs": [],
   "source": [
    "import cv2 as cv\n",
    "\n",
    "full_body = cv.CascadeClassifier(cv.data.haarcascades +'haarcascade_fullbody.xml')\n",
    "\n",
    "frame = cv.imread('./scripts/Backend/AI/Roots-1445px (1).jpg')\n",
    "#gray = cv.cvtColor(frame, cv.COLOR_BGR2GRAY)\n",
    "frame1=cv.resize(frame,(1200,720))\n",
    "detection = full_body.detectMultiScale(frame1, scaleFactor= 1.005, minNeighbors=5, minSize=(50,50))\n",
    "print (detection)\n",
    "\n",
    "for (x,y,w,h) in detection:\n",
    "    cv.rectangle(frame1, (x, y), (x+w, y+h), (0,255,0), 2)\n",
    "\n",
    "cv.imshow('a',frame1)\n",
    "cv.waitKey()"
   ]
  },
  {
   "cell_type": "markdown",
   "metadata": {},
   "source": []
  }
 ],
 "metadata": {
  "kernelspec": {
   "display_name": "Python 3.10.4 64-bit",
   "language": "python",
   "name": "python3"
  },
  "language_info": {
   "name": "python",
   "version": "3.10.4"
  },
  "orig_nbformat": 4,
  "vscode": {
   "interpreter": {
    "hash": "916dbcbb3f70747c44a77c7bcd40155683ae19c65e1c03b4aa3499c5328201f1"
   }
  }
 },
 "nbformat": 4,
 "nbformat_minor": 2
}
