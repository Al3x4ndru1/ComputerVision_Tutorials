{
 "cells": [
  {
   "cell_type": "markdown",
   "metadata": {},
   "source": [
    "The training process of this alghorithm is to generate a histogram for each oane of the classes and store them into a file and then we are going to use this file in order to compare this stored histograms with of the new histogram that we want to clasify. "
   ]
  }
 ],
 "metadata": {
  "kernelspec": {
   "display_name": "Python 3.10.4 ('venv': virtualenv)",
   "language": "python",
   "name": "python3"
  },
  "language_info": {
   "name": "python",
   "version": "3.10.4"
  },
  "orig_nbformat": 4,
  "vscode": {
   "interpreter": {
    "hash": "5e40246dcbcf183158b4af1dca6118b95a6ca29bb2d65cfb1729b9240f95b5dd"
   }
  }
 },
 "nbformat": 4,
 "nbformat_minor": 2
}
