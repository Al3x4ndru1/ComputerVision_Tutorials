{
 "cells": [
  {
   "cell_type": "markdown",
   "metadata": {},
   "source": [
    "# Face recognition"
   ]
  },
  {
   "cell_type": "markdown",
   "metadata": {},
   "source": [
    "The goal of the face detection is only to detect the faces and drow the building bloc around the faces.\n",
    "<br>\n",
    "\n",
    "On The other hand, the face recognition aims to indicate who the person is. For example, John or Carole."
   ]
  },
  {
   "cell_type": "markdown",
   "metadata": {},
   "source": [
    "1. One of the most faimous algorithm for face recognition is LBPH(Local Binary Pather Histogram).\n",
    "<br>\n",
    "\n",
    "![](figs/example.png)"
   ]
  },
  {
   "cell_type": "markdown",
   "metadata": {},
   "source": [
    "2. Face recognition with Dlib, CNN and distance calculator."
   ]
  },
  {
   "cell_type": "markdown",
   "metadata": {},
   "source": [
    "3. Face recognition webcome"
   ]
  }
 ],
 "metadata": {
  "language_info": {
   "name": "python"
  },
  "orig_nbformat": 4
 },
 "nbformat": 4,
 "nbformat_minor": 2
}
