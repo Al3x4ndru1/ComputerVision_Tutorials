{
 "cells": [
  {
   "cell_type": "markdown",
   "metadata": {},
   "source": [
    "# Face recognition"
   ]
  },
  {
   "cell_type": "markdown",
   "metadata": {},
   "source": [
    "The goal of the face detection is only to detect the faces and drow the building bloc around the faces.\n",
    "<br>\n",
    "\n",
    "On The other hand, the face recognition aims to indicate who the person is. For example, John or Carole."
   ]
  },
  {
   "cell_type": "markdown",
   "metadata": {},
   "source": [
    "1. One of the most faimous algorithm for face recognition is LBPH(Local Binary Pather Histogram).\n",
    "<br>\n",
    "\n",
    "![](figs/example.png)"
   ]
  },
  {
   "cell_type": "markdown",
   "metadata": {},
   "source": [
    "2. Face recognition with Dlib, CNN and distance calculator."
   ]
  },
  {
   "cell_type": "markdown",
   "metadata": {},
   "source": [
    "3. Face recognition webcome"
   ]
  }
 ],
 "metadata": {
  "kernelspec": {
   "display_name": "Python 3.10.4 ('venv': virtualenv)",
   "language": "python",
   "name": "python3"
  },
  "language_info": {
   "name": "python",
   "version": "3.10.4"
  },
  "orig_nbformat": 4,
  "vscode": {
   "interpreter": {
    "hash": "5e40246dcbcf183158b4af1dca6118b95a6ca29bb2d65cfb1729b9240f95b5dd"
   }
  }
 },
 "nbformat": 4,
 "nbformat_minor": 2
}
